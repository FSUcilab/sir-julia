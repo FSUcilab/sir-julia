{
 "cells": [
  {
   "cell_type": "markdown",
   "metadata": {},
   "source": [
    "# Discrete event simulation using `SimJulia`\n",
    "Simon Frost (@sdwfrost), 2020-04-27\n",
    "\n",
    "## Libraries\n",
    "\n",
    "## Comments (By Gordon Erlebacher, 2020-05-25)\n",
    "I do not understand this implementation. Since it is slow, it is better to use jump processes or SDE. "
   ]
  },
  {
   "cell_type": "code",
   "execution_count": null,
   "metadata": {},
   "outputs": [],
   "source": [
    "# emulation of yield in C# for iterators\n",
    "using ResumableFunctions\n",
    "# A discrete event process oriented simulation framework\n",
    "using SimJulia\n",
    "using Distributions\n",
    "using DataFrames\n",
    "using Random\n",
    "using StatsPlots\n",
    "using BenchmarkTools"
   ]
  },
  {
   "cell_type": "markdown",
   "metadata": {},
   "source": [
    "## Utility functions"
   ]
  },
  {
   "cell_type": "code",
   "execution_count": null,
   "metadata": {},
   "outputs": [],
   "source": [
    "function increment!(a::Array{Int64})\n",
    "    push!(a,a[length(a)]+1)\n",
    "end\n",
    "\n",
    "function decrement!(a::Array{Int64})\n",
    "    push!(a,a[length(a)]-1)\n",
    "end\n",
    "\n",
    "function carryover!(a::Array{Int64})\n",
    "    push!(a,a[length(a)])\n",
    "end;"
   ]
  },
  {
   "cell_type": "markdown",
   "metadata": {},
   "source": [
    "## Transitions"
   ]
  },
  {
   "cell_type": "code",
   "execution_count": null,
   "metadata": {},
   "outputs": [],
   "source": [
    "mutable struct SIRPerson\n",
    "    id::Int64 # numeric ID\n",
    "    status::Symbol # :S,I,R\n",
    "end;"
   ]
  },
  {
   "cell_type": "code",
   "execution_count": null,
   "metadata": {},
   "outputs": [],
   "source": [
    "mutable struct SIRModel\n",
    "    sim::Simulation\n",
    "    β::Float64\n",
    "    c::Float64\n",
    "    γ::Float64\n",
    "    ta::Array{Float64}\n",
    "    Sa::Array{Int64}\n",
    "    Ia::Array{Int64}\n",
    "    Ra::Array{Int64}\n",
    "    allIndividuals::Array{SIRPerson}\n",
    "end"
   ]
  },
  {
   "cell_type": "markdown",
   "metadata": {},
   "source": [
    "These functions update the state of the 'world' when either an infection or recovery occurs."
   ]
  },
  {
   "cell_type": "code",
   "execution_count": null,
   "metadata": {},
   "outputs": [],
   "source": [
    "function infection_update!(sim::Simulation,m::SIRModel)\n",
    "    push!(m.ta,now(sim))\n",
    "    decrement!(m.Sa)\n",
    "    increment!(m.Ia)\n",
    "    carryover!(m.Ra)\n",
    "end;"
   ]
  },
  {
   "cell_type": "code",
   "execution_count": null,
   "metadata": {},
   "outputs": [],
   "source": [
    "function recovery_update!(sim::Simulation,m::SIRModel)\n",
    "    push!(m.ta,now(sim))\n",
    "    carryover!(m.Sa)\n",
    "    decrement!(m.Ia)\n",
    "    increment!(m.Ra)\n",
    "end;"
   ]
  },
  {
   "cell_type": "markdown",
   "metadata": {},
   "source": [
    "The following is the main simulation function. It's not efficient, as it involves activating a process for all susceptibles; a more efficient algorithm would involve just considering infected individuals, and activating each susceptible individual when infection occurs. This however requires more bookkeeping and detracts from the ability to easily compare between implementations."
   ]
  },
  {
   "cell_type": "code",
   "execution_count": null,
   "metadata": {},
   "outputs": [],
   "source": [
    "@resumable function live(sim::Simulation, individual::SIRPerson, m::SIRModel)\n",
    "  while individual.status==:S\n",
    "      # Wait until next contact\n",
    "      @yield timeout(sim,rand(Distributions.Exponential(1/m.c)))\n",
    "      # Choose random alter\n",
    "      alter=individual\n",
    "      while alter==individual\n",
    "          N=length(m.allIndividuals)\n",
    "          index=rand(Distributions.DiscreteUniform(1,N))\n",
    "          alter=m.allIndividuals[index]\n",
    "      end\n",
    "      # If alter is infected\n",
    "      if alter.status==:I\n",
    "          infect = rand(Distributions.Uniform(0,1))\n",
    "          if infect < m.β\n",
    "              individual.status=:I\n",
    "              infection_update!(sim,m)\n",
    "          end\n",
    "      end\n",
    "  end\n",
    "  if individual.status==:I\n",
    "      # Wait until recovery\n",
    "      @yield timeout(sim,rand(Distributions.Exponential(1/m.γ)))\n",
    "      individual.status=:R\n",
    "      recovery_update!(sim,m)\n",
    "  end\n",
    "end;"
   ]
  },
  {
   "cell_type": "code",
   "execution_count": null,
   "metadata": {},
   "outputs": [],
   "source": [
    "function MakeSIRModel(u0,p)\n",
    "    (S,I,R) = u0\n",
    "    N = S+I+R\n",
    "    (β,c,γ) = p\n",
    "    sim = Simulation()\n",
    "    allIndividuals=Array{SIRPerson,1}(undef,N)\n",
    "    for i in 1:S\n",
    "        p=SIRPerson(i,:S)\n",
    "        allIndividuals[i]=p\n",
    "    end\n",
    "    for i in (S+1):(S+I)\n",
    "        p=SIRPerson(i,:I)\n",
    "        allIndividuals[i]=p\n",
    "    end\n",
    "    for i  in (S+I+1):N\n",
    "        p=SIRPerson(i,:R)\n",
    "        allIndividuals[i]=p\n",
    "    end\n",
    "    ta=Array{Float64,1}(undef,0)\n",
    "    push!(ta,0.0)\n",
    "    Sa=Array{Int64,1}(undef,0)\n",
    "    push!(Sa,S)\n",
    "    Ia=Array{Int64,1}(undef,0)\n",
    "    push!(Ia,I)\n",
    "    Ra=Array{Int64,1}(undef,0)\n",
    "    push!(Ra,R)\n",
    "    SIRModel(sim,β,c,γ,ta,Sa,Ia,Ra,allIndividuals)\n",
    "end;"
   ]
  },
  {
   "cell_type": "code",
   "execution_count": null,
   "metadata": {},
   "outputs": [],
   "source": [
    "function activate(m::SIRModel)\n",
    "     [@process live(m.sim,individual,m) for individual in m.allIndividuals]\n",
    "end;"
   ]
  },
  {
   "cell_type": "code",
   "execution_count": null,
   "metadata": {},
   "outputs": [],
   "source": [
    "function sir_run(m::SIRModel,tf::Float64)\n",
    "    SimJulia.run(m.sim,tf)\n",
    "end;"
   ]
  },
  {
   "cell_type": "code",
   "execution_count": null,
   "metadata": {},
   "outputs": [],
   "source": [
    "function out(m::SIRModel)\n",
    "    result = DataFrame()\n",
    "    result[!,:t] = m.ta\n",
    "    result[!,:S] = m.Sa\n",
    "    result[!,:I] = m.Ia\n",
    "    result[!,:R] = m.Ra\n",
    "    result\n",
    "end;"
   ]
  },
  {
   "cell_type": "markdown",
   "metadata": {},
   "source": [
    "## Time domain"
   ]
  },
  {
   "cell_type": "code",
   "execution_count": null,
   "metadata": {},
   "outputs": [],
   "source": [
    "tmax = 40.0;"
   ]
  },
  {
   "cell_type": "markdown",
   "metadata": {},
   "source": [
    "## Initial conditions"
   ]
  },
  {
   "cell_type": "code",
   "execution_count": null,
   "metadata": {},
   "outputs": [],
   "source": [
    "u0 = [990,10,0];"
   ]
  },
  {
   "cell_type": "markdown",
   "metadata": {},
   "source": [
    "## Parameter values"
   ]
  },
  {
   "cell_type": "code",
   "execution_count": null,
   "metadata": {},
   "outputs": [],
   "source": [
    "p = [0.05,10.0,0.25];"
   ]
  },
  {
   "cell_type": "markdown",
   "metadata": {},
   "source": [
    "## Random number seed"
   ]
  },
  {
   "cell_type": "code",
   "execution_count": null,
   "metadata": {},
   "outputs": [],
   "source": [
    "Random.seed!(1234);"
   ]
  },
  {
   "cell_type": "markdown",
   "metadata": {},
   "source": [
    "## Running the model"
   ]
  },
  {
   "cell_type": "code",
   "execution_count": null,
   "metadata": {},
   "outputs": [],
   "source": [
    "des_model = MakeSIRModel(u0,p)\n",
    "activate(des_model)\n",
    "sir_run(des_model,tmax)"
   ]
  },
  {
   "cell_type": "markdown",
   "metadata": {},
   "source": [
    "## Postprocessing"
   ]
  },
  {
   "cell_type": "code",
   "execution_count": null,
   "metadata": {},
   "outputs": [],
   "source": [
    "data_des=out(des_model);"
   ]
  },
  {
   "cell_type": "markdown",
   "metadata": {},
   "source": [
    "## Plotting"
   ]
  },
  {
   "cell_type": "code",
   "execution_count": null,
   "metadata": {},
   "outputs": [],
   "source": [
    "@df data_d es plot(:t, [:S :I :R], labels = [\"S\" \"I\" \"R\"], xlab=\"Time\", ylab=\"Number\")"
   ]
  },
  {
   "cell_type": "markdown",
   "metadata": {},
   "source": [
    "## Benchmarking"
   ]
  },
  {
   "cell_type": "code",
   "execution_count": null,
   "metadata": {},
   "outputs": [],
   "source": [
    "@benchmark begin\n",
    "    des_model = MakeSIRModel(u0,p)\n",
    "    activate(des_model)\n",
    "    sir_run(des_model,tmax)\n",
    "end"
   ]
  }
 ],
 "metadata": {
  "kernelspec": {
   "display_name": "Julia 1.4.0-rc1",
   "language": "julia",
   "name": "julia-1.4"
  },
  "language_info": {
   "file_extension": ".jl",
   "mimetype": "application/julia",
   "name": "julia",
   "version": "1.4.0"
  }
 },
 "nbformat": 4,
 "nbformat_minor": 2
}
