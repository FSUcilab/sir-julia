{
 "cells": [
  {
   "cell_type": "markdown",
   "metadata": {},
   "source": [
    "# Jump process\n",
    "Simon Frost (@sdwfrost), 2020-04-27\n",
    "\n",
    "## Introduction\n",
    "\n",
    "This implementation defines the model as a combination of two jump processes, infection and recovery, simulated using the [Doob-Gillespie algorithm](https://en.wikipedia.org/wiki/Gillespie_algorithm).\n",
    "\n",
    "## Libraries"
   ]
  },
  {
   "cell_type": "code",
   "execution_count": null,
   "metadata": {},
   "outputs": [],
   "source": [
    "using DifferentialEquations\n",
    "using SimpleDiffEq\n",
    "using Random\n",
    "using DataFrames\n",
    "using StatsPlots\n",
    "using BenchmarkTools"
   ]
  },
  {
   "cell_type": "markdown",
   "metadata": {},
   "source": [
    "## Transitions\n",
    "\n",
    "For each process, we define the rate at which it occurs, and how the state variables change at each jump. Note that these are total rates, not *per capita*, and that the change in state variables occurs in-place."
   ]
  },
  {
   "cell_type": "code",
   "execution_count": null,
   "metadata": {},
   "outputs": [],
   "source": [
    "function infection_rate(u,p,t)\n",
    "    (S,I,R) = u\n",
    "    (β,c,γ) = p\n",
    "    N = S+I+R\n",
    "    β*c*I/N*S\n",
    "end\n",
    "function infection!(integrator)\n",
    "  integrator.u[1] -= 1\n",
    "  integrator.u[2] += 1\n",
    "end\n",
    "infection_jump = ConstantRateJump(infection_rate,infection!);"
   ]
  },
  {
   "cell_type": "code",
   "execution_count": null,
   "metadata": {},
   "outputs": [],
   "source": [
    "function recovery_rate(u,p,t)\n",
    "    (S,I,R) = u\n",
    "    (β,c,γ) = p\n",
    "    γ*I\n",
    "end\n",
    "function recovery!(integrator)\n",
    "  integrator.u[2] -= 1\n",
    "  integrator.u[3] += 1\n",
    "end\n",
    "recovery_jump = ConstantRateJump(recovery_rate,recovery!);"
   ]
  },
  {
   "cell_type": "markdown",
   "metadata": {},
   "source": [
    "## Time domain"
   ]
  },
  {
   "cell_type": "code",
   "execution_count": null,
   "metadata": {},
   "outputs": [],
   "source": [
    "tmax = 40.0\n",
    "tspan = (0.0,tmax);"
   ]
  },
  {
   "cell_type": "markdown",
   "metadata": {},
   "source": [
    "For plotting, we can also define a separate time series."
   ]
  },
  {
   "cell_type": "code",
   "execution_count": null,
   "metadata": {},
   "outputs": [],
   "source": [
    "δt = 0.1\n",
    "t = 0:δt:tmax;"
   ]
  },
  {
   "cell_type": "markdown",
   "metadata": {},
   "source": [
    "## Initial conditions"
   ]
  },
  {
   "cell_type": "code",
   "execution_count": null,
   "metadata": {},
   "outputs": [],
   "source": [
    "u0 = [990,10,0]; # S,I,R"
   ]
  },
  {
   "cell_type": "markdown",
   "metadata": {},
   "source": [
    "## Parameter values"
   ]
  },
  {
   "cell_type": "code",
   "execution_count": null,
   "metadata": {},
   "outputs": [],
   "source": [
    "p = [0.05,10.0,0.25]; # β,c,γ"
   ]
  },
  {
   "cell_type": "markdown",
   "metadata": {},
   "source": [
    "## Random number seed\n",
    "\n",
    "We set a random number seed for reproducibility."
   ]
  },
  {
   "cell_type": "code",
   "execution_count": null,
   "metadata": {},
   "outputs": [],
   "source": [
    "Random.seed!(1234);"
   ]
  },
  {
   "cell_type": "markdown",
   "metadata": {},
   "source": [
    "## Running the model\n",
    "\n",
    "Running this model involves:\n",
    "\n",
    "- Setting up the problem as a `DiscreteProblem`;\n",
    "- Adding the jumps and setting the algorithm using `JumpProblem`; and\n",
    "- Running the model, specifying `FunctionMap`"
   ]
  },
  {
   "cell_type": "code",
   "execution_count": null,
   "metadata": {},
   "outputs": [],
   "source": [
    "#GE: What does DiscreteProblem do? How is it used? \n",
    "prob = DiscreteProblem(u0,tspan,p)"
   ]
  },
  {
   "cell_type": "code",
   "execution_count": null,
   "metadata": {},
   "outputs": [],
   "source": [
    "#GE: How does JumpProblem work? \n",
    "prob_jump = JumpProblem(prob,Direct(),infection_jump,recovery_jump)"
   ]
  },
  {
   "cell_type": "code",
   "execution_count": null,
   "metadata": {},
   "outputs": [],
   "source": [
    "sol_jump = solve(prob_jump,FunctionMap());\n",
    "#sol_discrete = solve(prob_discrete) #, FunctionMap());\n",
    "# sol_discrete is not correct"
   ]
  },
  {
   "cell_type": "markdown",
   "metadata": {},
   "source": [
    "## Post-processing\n",
    "\n",
    "In order to get output comparable across implementations, we output the model at a fixed set of times."
   ]
  },
  {
   "cell_type": "code",
   "execution_count": null,
   "metadata": {},
   "outputs": [],
   "source": [
    "out_jump = sol_jump(t);\n",
    "#out_discrete = sol_discrete(t);"
   ]
  },
  {
   "cell_type": "markdown",
   "metadata": {},
   "source": [
    "We can convert to a dataframe for convenience."
   ]
  },
  {
   "cell_type": "code",
   "execution_count": null,
   "metadata": {},
   "outputs": [],
   "source": [
    "df_jump = DataFrame(out_jump')\n",
    "df_jump[!,:t] = out_jump.t;\n",
    "println(size(df_jump), \"  , \", size(df_jump))\n",
    "\n",
    "#df_discrete = DataFrame(out_discrete')\n",
    "#df_discrete[!,:t] = out_discrete.t;\n",
    "#println(size(df_discrete), \"  , \", size(df_discrete))"
   ]
  },
  {
   "cell_type": "markdown",
   "metadata": {},
   "source": [
    "## Plotting\n",
    "\n",
    "We can now plot the results."
   ]
  },
  {
   "cell_type": "code",
   "execution_count": null,
   "metadata": {},
   "outputs": [],
   "source": [
    "@df df_jump plot(:t,\n",
    "    [:x1 :x2 :x3],\n",
    "    label=[\"S\" \"I\" \"R\"],\n",
    "    xlabel=\"Time\",\n",
    "    ylabel=\"Number (jump)\")"
   ]
  },
  {
   "cell_type": "code",
   "execution_count": null,
   "metadata": {},
   "outputs": [],
   "source": [
    "\"\"\"\n",
    "@df df_discrete plot(:t,\n",
    "    [:x1 :x2 :x3],\n",
    "    label=[\"S\" \"I\" \"R\"],\n",
    "    xlabel=\"Time\",\n",
    "    ylabel=\"Number (discrete)\")\n",
    "first(df_discrete, 10)\n",
    "\"\"\""
   ]
  },
  {
   "cell_type": "markdown",
   "metadata": {},
   "source": [
    "## Benchmarking"
   ]
  },
  {
   "cell_type": "code",
   "execution_count": null,
   "metadata": {},
   "outputs": [],
   "source": [
    "@benchmark solve(prob_jump,FunctionMap())"
   ]
  },
  {
   "cell_type": "code",
   "execution_count": null,
   "metadata": {},
   "outputs": [],
   "source": []
  }
 ],
 "metadata": {
  "kernelspec": {
   "display_name": "Julia 1.4.0-rc1",
   "language": "julia",
   "name": "julia-1.4"
  },
  "language_info": {
   "file_extension": ".jl",
   "mimetype": "application/julia",
   "name": "julia",
   "version": "1.4.0"
  }
 },
 "nbformat": 4,
 "nbformat_minor": 2
}
