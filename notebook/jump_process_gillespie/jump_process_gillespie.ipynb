{
 "cells": [
  {
   "cell_type": "code",
   "execution_count": null,
   "metadata": {},
   "outputs": [],
   "source": [
    "using Pkg\n",
    "Pkg.add(PackageSpec(url=\"https://github.com/sdwfrost/Gillespie.jl\", rev=\"master\"))"
   ]
  },
  {
   "cell_type": "code",
   "execution_count": null,
   "metadata": {},
   "outputs": [],
   "source": [
    "using Gillespie\n",
    "using Random\n",
    "using StatsPlots\n",
    "using BenchmarkTools"
   ]
  },
  {
   "cell_type": "code",
   "execution_count": null,
   "metadata": {},
   "outputs": [],
   "source": [
    "function sir_rates(x,parms)\n",
    "  (S,I,R) = x\n",
    "  (β,c,γ) = parms\n",
    "  N = S+I+R\n",
    "  infection = β*c*I/N*S\n",
    "  recovery = γ*I\n",
    "  [infection,recovery]\n",
    "end;"
   ]
  },
  {
   "cell_type": "code",
   "execution_count": null,
   "metadata": {},
   "outputs": [],
   "source": [
    "sir_transitions = [[-1 1 0];[0 -1 1]];\n",
    "tmax = 40.0;\n",
    "u0 = [990,10,0]; # S,I,R\n",
    "p = [0.05,10.0,0.25]; # β,c,γ\n",
    "Random.seed!(1234);"
   ]
  },
  {
   "cell_type": "code",
   "execution_count": null,
   "metadata": {},
   "outputs": [],
   "source": [
    "sol_jump = ssa(u0,sir_rates,sir_transitions,p,tmax);\n",
    "\n",
    "df_jump = ssa_data(sol_jump);"
   ]
  },
  {
   "cell_type": "code",
   "execution_count": null,
   "metadata": {},
   "outputs": [],
   "source": [
    "@df df_jump plot(:time,\n",
    "    [:x1 :x2 :x3],\n",
    "    label=[\"S\" \"I\" \"R\"],\n",
    "    xlabel=\"Time\",\n",
    "    ylabel=\"Number\")"
   ]
  },
  {
   "cell_type": "code",
   "execution_count": null,
   "metadata": {},
   "outputs": [],
   "source": [
    "@benchmark ssa(u0,sir_rates,sir_transitions,p,tmax)"
   ]
  },
  {
   "cell_type": "code",
   "execution_count": null,
   "metadata": {},
   "outputs": [],
   "source": [
    "include(joinpath(@__DIR__,\"tutorials\",\"appendix.jl\"))\n",
    "appendix()"
   ]
  }
 ],
 "metadata": {
  "kernelspec": {
   "display_name": "Julia 1.4.0-rc1",
   "language": "julia",
   "name": "julia-1.4"
  },
  "language_info": {
   "file_extension": ".jl",
   "mimetype": "application/julia",
   "name": "julia",
   "version": "1.4.0"
  }
 },
 "nbformat": 4,
 "nbformat_minor": 4
}
